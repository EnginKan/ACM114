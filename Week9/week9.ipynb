{
 "cells": [
  {
   "cell_type": "markdown",
   "metadata": {},
   "source": [
    "# OOP Programming in Python"
   ]
  },
  {
   "cell_type": "code",
   "execution_count": 22,
   "metadata": {},
   "outputs": [
    {
     "data": {
      "text/plain": [
       "__main__.Student"
      ]
     },
     "execution_count": 22,
     "metadata": {},
     "output_type": "execute_result"
    }
   ],
   "source": [
    "#to define class in python we need to use keyword class\n",
    "#let us create a Student class\n",
    "\n",
    "class Student:\n",
    "    __s_id=None #stands for student id\n",
    "    #to change accessabilityo of attribute put (__) char before variable name\n",
    "    #this makes this variable private to class\n",
    "    __s_name=None #stands for student Name\n",
    "    __s_sname=None #student's surname\n",
    "    #__init__(self):init method define how object from class goiing to be defined\n",
    "    def __init__(self,s_code,name,surname):\n",
    "        self.__s_id=s_code\n",
    "        self.__s_name=name\n",
    "        self.__s_sname=surname\n",
    "        \n",
    "    \n",
    "    #Accesors(getters) to get value of data attribute\n",
    "    def getS_id(self):\n",
    "        return self.__s_id\n",
    "    def getSname(self):\n",
    "        return self.__s_name\n",
    "    def getSsname(self):\n",
    "        return self.__s_sname\n",
    "    #Mutator methods(setters)\n",
    "    def setS_id(self,new_id):\n",
    "        self.__s_id=new_id\n",
    "    def setSname(self,new_name):\n",
    "        self.__s_name=new_name\n",
    "    def setSsname(self,new_sname):\n",
    "        self.__s_sname=new_sname\n",
    "\n",
    "#create an object form Student class\n",
    "stud1=Student(\"20172020300\",\"Kaan\",\"Ozetci\")\n",
    "stud2=Student(\"2017604030\",\"Gulhan\",\"Kutlu\")\n",
    "type(stud1)"
   ]
  },
  {
   "cell_type": "code",
   "execution_count": 21,
   "metadata": {},
   "outputs": [
    {
     "data": {
      "text/plain": [
       "'Kaan'"
      ]
     },
     "execution_count": 21,
     "metadata": {},
     "output_type": "execute_result"
    }
   ],
   "source": [
    "\n",
    "stud1.getSname()"
   ]
  },
  {
   "cell_type": "code",
   "execution_count": 6,
   "metadata": {},
   "outputs": [],
   "source": [
    "del stud1.s_name"
   ]
  },
  {
   "cell_type": "code",
   "execution_count": 23,
   "metadata": {},
   "outputs": [
    {
     "name": "stdout",
     "output_type": "stream",
     "text": [
      "Yusuf Kaan\n"
     ]
    }
   ],
   "source": [
    "stud1.setSname(\"Yusuf Kaan\")\n",
    "print(stud1.getSname())"
   ]
  },
  {
   "cell_type": "code",
   "execution_count": null,
   "metadata": {},
   "outputs": [],
   "source": []
  }
 ],
 "metadata": {
  "kernelspec": {
   "display_name": "Python 3",
   "language": "python",
   "name": "python3"
  },
  "language_info": {
   "codemirror_mode": {
    "name": "ipython",
    "version": 3
   },
   "file_extension": ".py",
   "mimetype": "text/x-python",
   "name": "python",
   "nbconvert_exporter": "python",
   "pygments_lexer": "ipython3",
   "version": "3.7.1"
  }
 },
 "nbformat": 4,
 "nbformat_minor": 2
}
