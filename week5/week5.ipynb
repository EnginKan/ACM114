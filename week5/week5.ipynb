{
 "cells": [
  {
   "cell_type": "markdown",
   "metadata": {},
   "source": [
    "# Dictionary in Python\n",
    "\n",
    "In python we have dict() data type which is designed to store sequence of data items. Dict() are different from the list such that they store values as **key-value** pairs. Instead of indexes, we need to use keys to reach elements of dictionaries.\n",
    "You ca ndeclera dictinary data type as follows:\n",
    "```python \n",
    "   dict_name={key1 : value1, key2 : value2}\n",
    "```\n",
    "or you ca use **dict()** build in function to convert given sequence into dictionary\n",
    "\n",
    "```python\n",
    "   dict_name=dict(var_name)\n",
    "    \n",
    "```\n",
    "argument variable in **dict()** must be iterable such as string, list,dict... \n",
    "\n",
    "**IMPORTANT**: Keys in dictinaries must be **immutable** data type.\n",
    "\n",
    "To reach the specific element in given dictonary,we need to use key values as index.\n",
    "\n",
    "Items of dictionaries are mutable which means that you can change the value inside the dictionary at specific key value using assignment.\n",
    "\n",
    "Before learning more about dictinary, let us look at the following examples:"
   ]
  },
  {
   "cell_type": "code",
   "execution_count": 2,
   "metadata": {},
   "outputs": [],
   "source": [
    "# example of empty dic\n",
    "empty={}\n",
    "#dcitonary that contains two key-value pairs.\n",
    "weights={'p1' : 93.0 ,'p2' : 78.5}\n",
    "#you can set new value at p1 key as follows:\n",
    "weights['p1']=95.0"
   ]
  },
  {
   "cell_type": "markdown",
   "metadata": {},
   "source": [
    "There are **methods** of dictionary data type. Look at the usag each one:"
   ]
  },
  {
   "cell_type": "code",
   "execution_count": 3,
   "metadata": {},
   "outputs": [
    {
     "data": {
      "text/plain": [
       "78.5"
      ]
     },
     "execution_count": 3,
     "metadata": {},
     "output_type": "execute_result"
    }
   ],
   "source": [
    "#we can get a value of an item in dictionary using get() method for specific key value\n",
    "weights.get('p2')"
   ]
  },
  {
   "cell_type": "code",
   "execution_count": 7,
   "metadata": {},
   "outputs": [
    {
     "data": {
      "text/plain": [
       "dict_keys(['p1', 'p2'])"
      ]
     },
     "execution_count": 7,
     "metadata": {},
     "output_type": "execute_result"
    }
   ],
   "source": [
    "#we can get all key values in the given dictionary using keys() method\n",
    "weights.keys()\n"
   ]
  },
  {
   "cell_type": "code",
   "execution_count": 8,
   "metadata": {},
   "outputs": [
    {
     "data": {
      "text/plain": [
       "dict_values([95.0, 78.5])"
      ]
     },
     "execution_count": 8,
     "metadata": {},
     "output_type": "execute_result"
    }
   ],
   "source": [
    "#we can get all values in dictionaries using values() method\n",
    "weights.values()"
   ]
  },
  {
   "cell_type": "code",
   "execution_count": 9,
   "metadata": {},
   "outputs": [
    {
     "data": {
      "text/plain": [
       "78.5"
      ]
     },
     "execution_count": 9,
     "metadata": {},
     "output_type": "execute_result"
    }
   ],
   "source": [
    "#we have pop() method to remove an item from dictinary for given key value\n",
    "weights.pop('p2')"
   ]
  },
  {
   "cell_type": "code",
   "execution_count": 10,
   "metadata": {},
   "outputs": [
    {
     "data": {
      "text/plain": [
       "{'p1': 95.0}"
      ]
     },
     "execution_count": 10,
     "metadata": {},
     "output_type": "execute_result"
    }
   ],
   "source": [
    "weights"
   ]
  },
  {
   "cell_type": "code",
   "execution_count": 11,
   "metadata": {},
   "outputs": [
    {
     "name": "stdout",
     "output_type": "stream",
     "text": [
      "{'p1': 95.0, 'p3': 82.3}\n"
     ]
    }
   ],
   "source": [
    "#we do not have special method to add new element to dictionary but we can add new elements to dictionary as follows\n",
    "weights['p3']=82.3\n",
    "print(weights)"
   ]
  },
  {
   "cell_type": "code",
   "execution_count": 12,
   "metadata": {},
   "outputs": [
    {
     "name": "stdout",
     "output_type": "stream",
     "text": [
      "People p1 weight:95.0\n",
      "People p3 weight:82.3\n"
     ]
    }
   ],
   "source": [
    "#we have also items() method for dictinary data type which is useful in loops while writing iteration over dictionary\n",
    "#items() method return each key-value pairs as tuple\n",
    "\n",
    "for key,value in weights.items():\n",
    "    print('People {} weight:{}'.format(key,value))"
   ]
  },
  {
   "cell_type": "markdown",
   "metadata": {},
   "source": [
    "# Set Data Structure\n",
    "\n",
    "Set data structures are similar to lists but they are different frım list in the following topics:\n",
    "    - Sets are unordered data structures\n",
    "    - Elements of sets are unique which means there is no duplicate elements in sets\n",
    "You can define an empty set as follows:\n",
    " ```python\n",
    "     set_name=set()\n",
    "    ```"
   ]
  },
  {
   "cell_type": "code",
   "execution_count": 1,
   "metadata": {},
   "outputs": [
    {
     "name": "stdout",
     "output_type": "stream",
     "text": [
      "set()\n"
     ]
    }
   ],
   "source": [
    "#example of empty set\n",
    "empty_set=set()\n",
    "print(empty_set)"
   ]
  },
  {
   "cell_type": "code",
   "execution_count": 2,
   "metadata": {},
   "outputs": [
    {
     "name": "stdout",
     "output_type": "stream",
     "text": [
      "{1, 2, 4, 5, 7, 12}\n"
     ]
    }
   ],
   "source": [
    "#create a set whose elements are come from a list\n",
    "set1=set([1,1,2,4,5,7,12,1])\n",
    "print(set1)"
   ]
  },
  {
   "cell_type": "markdown",
   "metadata": {},
   "source": [
    "As you see duplicate elements in the given list argument is eleminated. Only unique elements are in the set."
   ]
  },
  {
   "cell_type": "markdown",
   "metadata": {},
   "source": [
    " set data structure is very similar to mathematical sets. So that we can find union, intersection, differences of two or more sets"
   ]
  },
  {
   "cell_type": "code",
   "execution_count": 3,
   "metadata": {},
   "outputs": [
    {
     "name": "stdout",
     "output_type": "stream",
     "text": [
      "{32, 1, 2, 4, 5, 7, 12, 23}\n"
     ]
    }
   ],
   "source": [
    "#we have uninon operator: |\n",
    "set2={23,12,1,32}\n",
    "set3= set1 | set2\n",
    "print(set3)"
   ]
  },
  {
   "cell_type": "code",
   "execution_count": 4,
   "metadata": {},
   "outputs": [
    {
     "name": "stdout",
     "output_type": "stream",
     "text": [
      "{32, 1, 2, 4, 5, 7, 12, 23}\n"
     ]
    }
   ],
   "source": [
    "#other than unino n operator we have union() method for sets\n",
    "set4=set1.union(set2)\n",
    "print(set4)"
   ]
  },
  {
   "cell_type": "code",
   "execution_count": 5,
   "metadata": {},
   "outputs": [
    {
     "name": "stdout",
     "output_type": "stream",
     "text": [
      "{1, 12}\n",
      "{1, 12}\n"
     ]
    }
   ],
   "source": [
    "#we have interection operator and intersection method\n",
    "#operator is &\n",
    "set5=set1 & set2\n",
    "print(set5)\n",
    "#intersection method\n",
    "set6=set1.intersection(set2)\n",
    "print(set6)"
   ]
  },
  {
   "cell_type": "code",
   "execution_count": 7,
   "metadata": {},
   "outputs": [
    {
     "name": "stdout",
     "output_type": "stream",
     "text": [
      "{2, 4, 5, 7}\n",
      "{32, 23}\n"
     ]
    }
   ],
   "source": [
    "#we have difference operators and difference method\n",
    "set7=set1-set2\n",
    "print(set7)\n",
    "set8=set2.difference(set1)\n",
    "print(set8)"
   ]
  },
  {
   "cell_type": "code",
   "execution_count": 8,
   "metadata": {},
   "outputs": [
    {
     "name": "stdout",
     "output_type": "stream",
     "text": [
      "{32, 2, 4, 5, 7, 23}\n"
     ]
    }
   ],
   "source": [
    "#we also have symmettric difference method=uninon-intersection\n",
    "set9=set1.symmetric_difference(set2)\n",
    "print(set9)"
   ]
  },
  {
   "cell_type": "code",
   "execution_count": null,
   "metadata": {},
   "outputs": [],
   "source": []
  }
 ],
 "metadata": {
  "kernelspec": {
   "display_name": "Python 3",
   "language": "python",
   "name": "python3"
  },
  "language_info": {
   "codemirror_mode": {
    "name": "ipython",
    "version": 3
   },
   "file_extension": ".py",
   "mimetype": "text/x-python",
   "name": "python",
   "nbconvert_exporter": "python",
   "pygments_lexer": "ipython3",
   "version": "3.7.1"
  }
 },
 "nbformat": 4,
 "nbformat_minor": 2
}
