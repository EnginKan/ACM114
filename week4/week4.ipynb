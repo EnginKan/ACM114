{
 "cells": [
  {
   "cell_type": "markdown",
   "metadata": {},
   "source": [
    "# List(s) and Tuple(s)\n",
    "\n",
    "In this week, we are going to learn about the followings topics:\n",
    "- List(s)\n",
    "- Tuple(s)\n",
    "- Loops(for loops)\n",
    "\n",
    "## List(s)\n",
    "\n",
    "List is a data type in python, which can store sequence of data items. They arevery similar to array(s) in other programming languages such as C++, Java. Yet, they have significiantly different properties than traditional array.\n",
    "Some of the major difference between List(s) and array(s) can be summarized as follows:\n",
    "- While array(s) can store same type of data itemes, list(s) can store same and different type of data at the same instant\n",
    "- While traditional arrays have fixed size, size of list can be changed with appending and removing items from it.\n",
    "- While arrays has indexes start from 0 to lenght-1, elements of list(s) can be reach by negative indexes.\n",
    "\n",
    "In python, list can be defined by two way. First one as follows:\n",
    "\n",
    "```ptyhon\n",
    "list_name=[item1,item2,item3]\n",
    "```\n",
    "Secondly we can use __list()__ function to convert a data item into list:\n",
    "\n",
    "```python\n",
    "    list_name=list(var_name)\n",
    "```\n",
    "Let us give an example which decleres and array consists of integers:"
   ]
  },
  {
   "cell_type": "code",
   "execution_count": 2,
   "metadata": {},
   "outputs": [
    {
     "name": "stdout",
     "output_type": "stream",
     "text": [
      "6\n"
     ]
    }
   ],
   "source": [
    "#let us firstly define a list with name numbers which contains integers\n",
    "numbers=[3,5,12,-5,11,-10]\n",
    "#we can learn the length of given list using len()\n",
    "print(len(numbers))"
   ]
  },
  {
   "cell_type": "markdown",
   "metadata": {},
   "source": [
    "There are some built in functions that we can use with list.Some of the built-in functions are as follows:\n",
    "    - max()\n",
    "    - min()\n",
    "    - sorted()\n",
    "    - sum()\n",
    "In the next few lines, functionalities of this functions are demonstrated:"
   ]
  },
  {
   "cell_type": "code",
   "execution_count": 2,
   "metadata": {},
   "outputs": [
    {
     "data": {
      "text/plain": [
       "12"
      ]
     },
     "execution_count": 2,
     "metadata": {},
     "output_type": "execute_result"
    }
   ],
   "source": [
    "#some built-in function that we can use with list(s)\n",
    "max(numbers)"
   ]
  },
  {
   "cell_type": "code",
   "execution_count": 3,
   "metadata": {},
   "outputs": [
    {
     "data": {
      "text/plain": [
       "-10"
      ]
     },
     "execution_count": 3,
     "metadata": {},
     "output_type": "execute_result"
    }
   ],
   "source": [
    "min(numbers)"
   ]
  },
  {
   "cell_type": "code",
   "execution_count": 4,
   "metadata": {},
   "outputs": [
    {
     "data": {
      "text/plain": [
       "16"
      ]
     },
     "execution_count": 4,
     "metadata": {},
     "output_type": "execute_result"
    }
   ],
   "source": [
    "#sum() functions which finds the sum of elements in given list\n",
    "sum(numbers)"
   ]
  },
  {
   "cell_type": "code",
   "execution_count": 7,
   "metadata": {},
   "outputs": [
    {
     "data": {
      "text/plain": [
       "[-10, -5, 3, 5, 11, 12]"
      ]
     },
     "execution_count": 7,
     "metadata": {},
     "output_type": "execute_result"
    }
   ],
   "source": [
    "sorted(numbers)"
   ]
  },
  {
   "cell_type": "code",
   "execution_count": 8,
   "metadata": {},
   "outputs": [
    {
     "data": {
      "text/plain": [
       "[3, 5, 12, -5, 11, -10]"
      ]
     },
     "execution_count": 8,
     "metadata": {},
     "output_type": "execute_result"
    }
   ],
   "source": [
    "numbers"
   ]
  },
  {
   "cell_type": "markdown",
   "metadata": {},
   "source": [
    "__List__ data type has some special methods to add or remove new elements:\n",
    "    - append(item), insert(position, item)\n",
    "    - remove(item), pop()\n",
    "\n",
    "There are two method to sort list:\n",
    "    - sort() and reverse()"
   ]
  },
  {
   "cell_type": "code",
   "execution_count": 9,
   "metadata": {},
   "outputs": [],
   "source": [
    "#to really sort the given list we will use sort() method\n",
    "numbers.sort()"
   ]
  },
  {
   "cell_type": "code",
   "execution_count": 10,
   "metadata": {},
   "outputs": [
    {
     "data": {
      "text/plain": [
       "[-10, -5, 3, 5, 11, 12]"
      ]
     },
     "execution_count": 10,
     "metadata": {},
     "output_type": "execute_result"
    }
   ],
   "source": [
    "numbers"
   ]
  },
  {
   "cell_type": "code",
   "execution_count": 11,
   "metadata": {},
   "outputs": [],
   "source": [
    "numbers.sort(reverse=True)"
   ]
  },
  {
   "cell_type": "code",
   "execution_count": 12,
   "metadata": {},
   "outputs": [
    {
     "data": {
      "text/plain": [
       "[12, 11, 5, 3, -5, -10]"
      ]
     },
     "execution_count": 12,
     "metadata": {},
     "output_type": "execute_result"
    }
   ],
   "source": [
    "numbers"
   ]
  },
  {
   "cell_type": "code",
   "execution_count": 3,
   "metadata": {},
   "outputs": [],
   "source": [
    "#to insert element to the list first way: use append() method\n",
    "#append() add elements at the end of the list\n",
    "numbers.append(100)"
   ]
  },
  {
   "cell_type": "code",
   "execution_count": 4,
   "metadata": {},
   "outputs": [
    {
     "data": {
      "text/plain": [
       "[3, 5, 12, -5, 11, -10, 100]"
      ]
     },
     "execution_count": 4,
     "metadata": {},
     "output_type": "execute_result"
    }
   ],
   "source": [
    "numbers"
   ]
  },
  {
   "cell_type": "code",
   "execution_count": 5,
   "metadata": {},
   "outputs": [],
   "source": [
    "#second way: use insert() method\n",
    "numbers.insert(1,-100)"
   ]
  },
  {
   "cell_type": "code",
   "execution_count": 6,
   "metadata": {},
   "outputs": [
    {
     "data": {
      "text/plain": [
       "[3, -100, 5, 12, -5, 11, -10, 100]"
      ]
     },
     "execution_count": 6,
     "metadata": {},
     "output_type": "execute_result"
    }
   ],
   "source": [
    "numbers"
   ]
  },
  {
   "cell_type": "markdown",
   "metadata": {},
   "source": [
    "## Reaching Elements of List(s)\n",
    "\n",
    "We can reach elements(or items) of list using __index__. Index are integers start from 0 to length of list minus one.\n",
    "For example, first element of list is stored at the index 0.\n",
    "```python\n",
    "   list_name[index_number]\n",
    "```\n",
    "We can also change values of list elements as follows:\n",
    "```python\n",
    "   list_name[index_number]=new_value\n",
    "```\n",
    "There are also negative indexes for lists. Negative indexes start from -1 to -len(list).\n",
    "In contrast to normal indexes, index -1 refers to last element in the list and first element can be reached at index len(list)"
   ]
  },
  {
   "cell_type": "code",
   "execution_count": 7,
   "metadata": {},
   "outputs": [
    {
     "data": {
      "text/plain": [
       "[22, -100, 5, 12, -5, 11, -10, 100]"
      ]
     },
     "execution_count": 7,
     "metadata": {},
     "output_type": "execute_result"
    }
   ],
   "source": [
    "#lists are mutable \n",
    "numbers[0]=22\n",
    "numbers"
   ]
  },
  {
   "cell_type": "code",
   "execution_count": 8,
   "metadata": {},
   "outputs": [],
   "source": [
    "#we can remove elements from the list using remove() method\n",
    "numbers.remove(-100)"
   ]
  },
  {
   "cell_type": "code",
   "execution_count": 9,
   "metadata": {},
   "outputs": [
    {
     "data": {
      "text/plain": [
       "[22, 5, 12, -5, 11, -10, 100]"
      ]
     },
     "execution_count": 9,
     "metadata": {},
     "output_type": "execute_result"
    }
   ],
   "source": [
    "numbers"
   ]
  },
  {
   "cell_type": "code",
   "execution_count": 10,
   "metadata": {},
   "outputs": [
    {
     "data": {
      "text/plain": [
       "100"
      ]
     },
     "execution_count": 10,
     "metadata": {},
     "output_type": "execute_result"
    }
   ],
   "source": [
    "#2nd way to remove elements: pop() which removes the last element from list\n",
    "numbers.pop()"
   ]
  },
  {
   "cell_type": "code",
   "execution_count": 35,
   "metadata": {},
   "outputs": [
    {
     "data": {
      "text/plain": [
       "[22, 11, 5, 3, -5, -10]"
      ]
     },
     "execution_count": 35,
     "metadata": {},
     "output_type": "execute_result"
    }
   ],
   "source": [
    "numbers"
   ]
  },
  {
   "cell_type": "code",
   "execution_count": 18,
   "metadata": {},
   "outputs": [],
   "source": [
    "#we can store different type of data in the same list\n",
    "datas=['Engin',22,3.14,False]"
   ]
  },
  {
   "cell_type": "markdown",
   "metadata": {},
   "source": [
    "## List Slicing\n",
    "List Slicing is kind of method special to list data type to extract subsequence of given list whose range is setted through __start__ and __end__ indexes:\n",
    "\n",
    "\n",
    "```python\n",
    " list_name[start:end]\n",
    "```\n",
    "which returns partion of the list. Note that  element at the __end__ index not included in sublist.\n",
    "\n",
    "If we do not specify start index in slicing, automatically it is setted as 0.\n",
    "If we do not specify end index in slicing, automatically it is setted as len(list_name)\n",
    "\n",
    "We can also give third parameter in list slicing which is step size:\n",
    "\n",
    "```\n",
    "list_name[start:end:step]\n",
    "```"
   ]
  },
  {
   "cell_type": "code",
   "execution_count": 11,
   "metadata": {},
   "outputs": [
    {
     "data": {
      "text/plain": [
       "[22, 5, 12]"
      ]
     },
     "execution_count": 11,
     "metadata": {},
     "output_type": "execute_result"
    }
   ],
   "source": [
    "#list slicing\n",
    "numbers[0:3]"
   ]
  },
  {
   "cell_type": "code",
   "execution_count": 12,
   "metadata": {},
   "outputs": [
    {
     "data": {
      "text/plain": [
       "[22, 12, 11]"
      ]
     },
     "execution_count": 12,
     "metadata": {},
     "output_type": "execute_result"
    }
   ],
   "source": [
    "numbers[0:5:2]"
   ]
  },
  {
   "cell_type": "code",
   "execution_count": 13,
   "metadata": {},
   "outputs": [
    {
     "data": {
      "text/plain": [
       "[22, 5, 12]"
      ]
     },
     "execution_count": 13,
     "metadata": {},
     "output_type": "execute_result"
    }
   ],
   "source": [
    "#if I don't specify the start index it will 0 automatically\n",
    "numbers[:3]"
   ]
  },
  {
   "cell_type": "code",
   "execution_count": 14,
   "metadata": {},
   "outputs": [
    {
     "data": {
      "text/plain": [
       "[5, 12, -5, 11, -10]"
      ]
     },
     "execution_count": 14,
     "metadata": {},
     "output_type": "execute_result"
    }
   ],
   "source": [
    "#similarly if I don't put end index it puts len(list) value at end index\n",
    "numbers[1:]"
   ]
  },
  {
   "cell_type": "markdown",
   "metadata": {},
   "source": [
    "# Copying List and List Concatanation\n",
    "\n",
    "We can concatanate two lists by + operator as follows:\n",
    "```python\n",
    "list3=list1+list2\n",
    "```\n",
    "In this usage elements of list2 elements are added at the end of list1, this final list is assigned to variable list3.\n",
    "\n",
    "You can not create a copy of a given list, just creating new variable and assiging it to old list like\n",
    "```python\n",
    "    copy_list=list_old\n",
    "```\n",
    "Which is __wrong way__.\n",
    "\n",
    "There are two way to create a copy of given list:\n",
    "    - You need to create a new empty list and add old list to it by + operator or extend() method of list.\n",
    "    - You need to create a new empty list and add each elemnt of old list using append() with in for loop."
   ]
  },
  {
   "cell_type": "code",
   "execution_count": 15,
   "metadata": {},
   "outputs": [
    {
     "name": "stdout",
     "output_type": "stream",
     "text": [
      "[22, 5, 12, -5, 11, -10]\n",
      "[22, 5, 12, -5, 11, -10, 10]\n"
     ]
    }
   ],
   "source": [
    "#copying list: there are tw way to get copy of given list\n",
    "numbers2=numbers\n",
    "print(numbers2)\n",
    "numbers.append(10)\n",
    "print(numbers2)\n",
    "#assignment does not work copying list"
   ]
  },
  {
   "cell_type": "code",
   "execution_count": 16,
   "metadata": {},
   "outputs": [
    {
     "name": "stdout",
     "output_type": "stream",
     "text": [
      "Before addition: [22, 5, 12, -5, 11, -10, 10]\n",
      "After addition: [22, 5, 12, -5, 11, -10, 10]\n",
      "Original numbers: [22, 5, 12, -5, 11, -10, 10, 25]\n"
     ]
    }
   ],
   "source": [
    "#to copy a list firstly create an empty list and concatanate this list with old one\n",
    "numbers3=[]\n",
    "numbers3=numbers3+numbers\n",
    "print('Before addition:',numbers3)\n",
    "numbers.append(25)\n",
    "print('After addition:',numbers3)\n",
    "print('Original numbers:',numbers)"
   ]
  },
  {
   "cell_type": "code",
   "execution_count": 19,
   "metadata": {},
   "outputs": [
    {
     "name": "stdout",
     "output_type": "stream",
     "text": [
      "['Engin', 22, 3.14, False, 22, 5, 12, -5, 11, -10, 10, 25]\n"
     ]
    }
   ],
   "source": [
    "datas2=datas+numbers\n",
    "print(datas2)"
   ]
  },
  {
   "cell_type": "code",
   "execution_count": 20,
   "metadata": {},
   "outputs": [
    {
     "name": "stdout",
     "output_type": "stream",
     "text": [
      "['Engin', 22, 3.14, False, [22, 5, 12, -5, 11, -10, 10, 25]]\n"
     ]
    }
   ],
   "source": [
    "datas.append(numbers)\n",
    "print(datas)"
   ]
  },
  {
   "cell_type": "code",
   "execution_count": 21,
   "metadata": {},
   "outputs": [
    {
     "data": {
      "text/plain": [
       "5"
      ]
     },
     "execution_count": 21,
     "metadata": {},
     "output_type": "execute_result"
    }
   ],
   "source": [
    "len(datas)"
   ]
  },
  {
   "cell_type": "code",
   "execution_count": 22,
   "metadata": {},
   "outputs": [],
   "source": [
    "datas3=[]\n",
    "datas3.extend(numbers)"
   ]
  },
  {
   "cell_type": "code",
   "execution_count": 53,
   "metadata": {},
   "outputs": [
    {
     "data": {
      "text/plain": [
       "[22, 11, 5, 3, -5, -10, 10, 10, 25, 25]"
      ]
     },
     "execution_count": 53,
     "metadata": {},
     "output_type": "execute_result"
    }
   ],
   "source": [
    "datas3"
   ]
  },
  {
   "cell_type": "code",
   "execution_count": 54,
   "metadata": {},
   "outputs": [
    {
     "data": {
      "text/plain": [
       "[22, 11, 5, 3, -5, -10, 10, 10, 25, 25, 22, 11, 5, 3, -5, -10, 10, 10, 25, 25]"
      ]
     },
     "execution_count": 54,
     "metadata": {},
     "output_type": "execute_result"
    }
   ],
   "source": [
    "2*datas3"
   ]
  },
  {
   "cell_type": "markdown",
   "metadata": {},
   "source": [
    "# Multidimensional List(s)"
   ]
  },
  {
   "cell_type": "code",
   "execution_count": 55,
   "metadata": {},
   "outputs": [],
   "source": [
    "yoklama=[['Engin','Kandıran',[0,2,1]],['Mert','Sancar',[1,0,1]]]"
   ]
  },
  {
   "cell_type": "code",
   "execution_count": 57,
   "metadata": {},
   "outputs": [
    {
     "data": {
      "text/plain": [
       "list"
      ]
     },
     "execution_count": 57,
     "metadata": {},
     "output_type": "execute_result"
    }
   ],
   "source": [
    "type(yoklama[0][2])"
   ]
  },
  {
   "cell_type": "code",
   "execution_count": 59,
   "metadata": {},
   "outputs": [
    {
     "data": {
      "text/plain": [
       "2"
      ]
     },
     "execution_count": 59,
     "metadata": {},
     "output_type": "execute_result"
    }
   ],
   "source": [
    "yoklama[0][2][1]"
   ]
  },
  {
   "cell_type": "markdown",
   "metadata": {},
   "source": [
    "# Tuple(s)"
   ]
  },
  {
   "cell_type": "markdown",
   "metadata": {},
   "source": [
    "Tuples are immutable lists.\n",
    "Which means that you cannot insert, delete, append any value from tuple.\n",
    "You can only use two methods over tuples: count() and index()\n",
    "you can define tuple as follows:\n",
    "```python\n",
    "   tuple_name=(item,items)\n",
    "    ```"
   ]
  },
  {
   "cell_type": "code",
   "execution_count": 60,
   "metadata": {},
   "outputs": [],
   "source": [
    "coordinate=(122.5,30.7)"
   ]
  },
  {
   "cell_type": "code",
   "execution_count": 61,
   "metadata": {},
   "outputs": [
    {
     "data": {
      "text/plain": [
       "122.5"
      ]
     },
     "execution_count": 61,
     "metadata": {},
     "output_type": "execute_result"
    }
   ],
   "source": [
    "coordinate[0]"
   ]
  },
  {
   "cell_type": "code",
   "execution_count": 62,
   "metadata": {},
   "outputs": [
    {
     "ename": "TypeError",
     "evalue": "'tuple' object does not support item assignment",
     "output_type": "error",
     "traceback": [
      "\u001b[1;31m---------------------------------------------------------------------------\u001b[0m",
      "\u001b[1;31mTypeError\u001b[0m                                 Traceback (most recent call last)",
      "\u001b[1;32m<ipython-input-62-4e933dea08ed>\u001b[0m in \u001b[0;36m<module>\u001b[1;34m\u001b[0m\n\u001b[1;32m----> 1\u001b[1;33m \u001b[0mcoordinate\u001b[0m\u001b[1;33m[\u001b[0m\u001b[1;36m0\u001b[0m\u001b[1;33m]\u001b[0m\u001b[1;33m=\u001b[0m\u001b[1;36m110.5\u001b[0m\u001b[1;33m\u001b[0m\u001b[1;33m\u001b[0m\u001b[0m\n\u001b[0m",
      "\u001b[1;31mTypeError\u001b[0m: 'tuple' object does not support item assignment"
     ]
    }
   ],
   "source": [
    "coordinate[0]=110.5"
   ]
  },
  {
   "cell_type": "code",
   "execution_count": 63,
   "metadata": {},
   "outputs": [],
   "source": [
    "buildings=[coordinate,(110.5,30.2),(92.5,30.7)]"
   ]
  },
  {
   "cell_type": "code",
   "execution_count": 64,
   "metadata": {},
   "outputs": [
    {
     "name": "stdout",
     "output_type": "stream",
     "text": [
      "[122.5, 30.7]\n"
     ]
    }
   ],
   "source": [
    "coordinate=list(coordinate)\n",
    "print(coordinate)"
   ]
  },
  {
   "cell_type": "code",
   "execution_count": 65,
   "metadata": {},
   "outputs": [],
   "source": [
    "coordinate[0]=105.7"
   ]
  },
  {
   "cell_type": "code",
   "execution_count": 66,
   "metadata": {},
   "outputs": [],
   "source": [
    "coordinate=tuple(coordinate)"
   ]
  },
  {
   "cell_type": "code",
   "execution_count": 67,
   "metadata": {},
   "outputs": [
    {
     "data": {
      "text/plain": [
       "(105.7, 30.7)"
      ]
     },
     "execution_count": 67,
     "metadata": {},
     "output_type": "execute_result"
    }
   ],
   "source": [
    "coordinate"
   ]
  },
  {
   "cell_type": "markdown",
   "metadata": {},
   "source": [
    "# Loops: for loop\n",
    "\n",
    "We need to use loops in programming languages to make repeated set of actions. For example to process elements of given lists\n",
    "we are gonig to use loop structures. For example, suppose each students grade are stored in a list, to find the avearge grade of class with its standart deviation, we can use loops. Loop stuctures are more flexible in python compared to other programming languages. In this lecture, we are giong to start with **for** loop. Usage(syntax) of **for** loops as follows:\n",
    "\n",
    "```python\n",
    "    for dummy_var in list_name:\n",
    "        statements\n",
    "        .\n",
    "        .\n",
    "```\n",
    "In this syntax, **dummy_var** is variable which takes value of each elements of **list_name** list from its firt to last element at each iteration.\n"
   ]
  },
  {
   "cell_type": "code",
   "execution_count": 69,
   "metadata": {},
   "outputs": [
    {
     "name": "stdout",
     "output_type": "stream",
     "text": [
      "96\n"
     ]
    }
   ],
   "source": [
    "#usage of for loop\n",
    "total=0 #accumulator variable\n",
    "for number in numbers:\n",
    "    total=total+number\n",
    "print(total)"
   ]
  },
  {
   "cell_type": "markdown",
   "metadata": {},
   "source": [
    "### range() function\n",
    "**range()** function very useful function while we are dealing with lists. There are three usage of **range()** function.\n",
    "In the next few examples these usage methods are examplified. "
   ]
  },
  {
   "cell_type": "code",
   "execution_count": 70,
   "metadata": {},
   "outputs": [
    {
     "name": "stdout",
     "output_type": "stream",
     "text": [
      "5050\n"
     ]
    }
   ],
   "source": [
    "#range() function\n",
    "total=0\n",
    "for sayi in range(1,101):\n",
    "    total+=sayi\n",
    "print(total)"
   ]
  },
  {
   "cell_type": "code",
   "execution_count": 71,
   "metadata": {},
   "outputs": [
    {
     "name": "stdout",
     "output_type": "stream",
     "text": [
      "0\n",
      "1\n",
      "2\n",
      "3\n",
      "4\n"
     ]
    }
   ],
   "source": [
    "for a in range(5):\n",
    "    print(a)"
   ]
  },
  {
   "cell_type": "code",
   "execution_count": 72,
   "metadata": {},
   "outputs": [
    {
     "name": "stdout",
     "output_type": "stream",
     "text": [
      "2\n",
      "4\n",
      "6\n",
      "8\n",
      "10\n"
     ]
    }
   ],
   "source": [
    "for a in range(2,11,2):\n",
    "    print(a)"
   ]
  },
  {
   "cell_type": "code",
   "execution_count": 73,
   "metadata": {},
   "outputs": [
    {
     "name": "stdout",
     "output_type": "stream",
     "text": [
      "105.7 , 30.7\n"
     ]
    }
   ],
   "source": [
    "x1,y1=coordinate\n",
    "print(x1,',',y1)"
   ]
  },
  {
   "cell_type": "code",
   "execution_count": 74,
   "metadata": {},
   "outputs": [
    {
     "data": {
      "text/plain": [
       "[(122.5, 30.7), (110.5, 30.2), (92.5, 30.7)]"
      ]
     },
     "execution_count": 74,
     "metadata": {},
     "output_type": "execute_result"
    }
   ],
   "source": [
    "buildings"
   ]
  },
  {
   "cell_type": "code",
   "execution_count": 76,
   "metadata": {},
   "outputs": [
    {
     "name": "stdout",
     "output_type": "stream",
     "text": [
      "Building #1 has lat:122.5 and longt:30.7\n",
      "Building #2 has lat:110.5 and longt:30.2\n",
      "Building #3 has lat:92.5 and longt:30.7\n"
     ]
    }
   ],
   "source": [
    "count=1\n",
    "for x,y in buildings:\n",
    "    print(\"Building #{} has lat:{} and longt:{}\".format(count,x,y))\n",
    "    count+=1"
   ]
  },
  {
   "cell_type": "code",
   "execution_count": 80,
   "metadata": {},
   "outputs": [
    {
     "name": "stdout",
     "output_type": "stream",
     "text": [
      "Student:Engin,Kandıran total attandance number:3\n",
      "Student:Mert,Sancar total attandance number:2\n"
     ]
    }
   ],
   "source": [
    "for name,sname,devam in yoklama:\n",
    "    print('Student:{},{} total attandance number:{}'.format(name,sname,sum(devam)))"
   ]
  },
  {
   "cell_type": "code",
   "execution_count": 81,
   "metadata": {},
   "outputs": [
    {
     "data": {
      "text/plain": [
       "[['Engin', 'Kandıran', [0, 2, 1]], ['Mert', 'Sancar', [1, 0, 1]]]"
      ]
     },
     "execution_count": 81,
     "metadata": {},
     "output_type": "execute_result"
    }
   ],
   "source": [
    "yoklama"
   ]
  },
  {
   "cell_type": "code",
   "execution_count": 82,
   "metadata": {},
   "outputs": [],
   "source": [
    "lectures=['ACM114','ACM221','ACM222']\n",
    "hours=[3,4,3]"
   ]
  },
  {
   "cell_type": "code",
   "execution_count": 83,
   "metadata": {},
   "outputs": [
    {
     "name": "stdout",
     "output_type": "stream",
     "text": [
      "Lecture:ACM114 Hour:3\n",
      "Lecture:ACM221 Hour:4\n",
      "Lecture:ACM222 Hour:3\n"
     ]
    }
   ],
   "source": [
    "for ders,saat in zip(lectures,hours):\n",
    "    print('Lecture:{} Hour:{}'.format(ders,saat))"
   ]
  },
  {
   "cell_type": "code",
   "execution_count": 84,
   "metadata": {},
   "outputs": [
    {
     "name": "stdout",
     "output_type": "stream",
     "text": [
      "[22, -10, 10, 10]\n"
     ]
    }
   ],
   "source": [
    "#List comprehension\n",
    "evens=[x for x in numbers if x%2 == 0]\n",
    "print(evens)"
   ]
  },
  {
   "cell_type": "code",
   "execution_count": 85,
   "metadata": {},
   "outputs": [
    {
     "name": "stdout",
     "output_type": "stream",
     "text": [
      "[22, 10, 10, 10]\n"
     ]
    }
   ],
   "source": [
    "abs_evens=[abs(x) for x in numbers if x%2 == 0]\n",
    "print(abs_evens)"
   ]
  },
  {
   "cell_type": "code",
   "execution_count": 86,
   "metadata": {},
   "outputs": [],
   "source": [
    "sqr_evens=[x**2 for x in numbers if x%2==0]"
   ]
  },
  {
   "cell_type": "code",
   "execution_count": 87,
   "metadata": {},
   "outputs": [
    {
     "name": "stdout",
     "output_type": "stream",
     "text": [
      "[484, 100, 100, 100]\n"
     ]
    }
   ],
   "source": [
    "print(sqr_evens)"
   ]
  },
  {
   "cell_type": "code",
   "execution_count": 89,
   "metadata": {},
   "outputs": [
    {
     "name": "stdout",
     "output_type": "stream",
     "text": [
      "tutorial\n"
     ]
    }
   ],
   "source": [
    "word='tttuutooriall'\n",
    "prev=''\n",
    "correct=''\n",
    "for c in word:\n",
    "    if c!=prev:\n",
    "        correct+=c\n",
    "    prev=c\n",
    "print(correct)"
   ]
  },
  {
   "cell_type": "code",
   "execution_count": 90,
   "metadata": {},
   "outputs": [
    {
     "name": "stdout",
     "output_type": "stream",
     "text": [
      "n degerini giriniz:5\n",
      "[[5, 5, 5, 5, 5], [5, 5, 5, 5, 5], [5, 5, 5, 5, 5], [5, 5, 5, 5, 5], [5, 5, 5, 5, 5]]\n"
     ]
    }
   ],
   "source": [
    "n=int(input(\"n degerini giriniz:\"))\n",
    "result=[]\n",
    "inner_result=[]\n",
    "for i in range(n):\n",
    "    for j in range(n):\n",
    "        inner_result.append(n)\n",
    "    result.append(inner_result)\n",
    "    inner_result=[]\n",
    "print(result)"
   ]
  },
  {
   "cell_type": "code",
   "execution_count": null,
   "metadata": {},
   "outputs": [],
   "source": []
  }
 ],
 "metadata": {
  "kernelspec": {
   "display_name": "Python 3",
   "language": "python",
   "name": "python3"
  },
  "language_info": {
   "codemirror_mode": {
    "name": "ipython",
    "version": 3
   },
   "file_extension": ".py",
   "mimetype": "text/x-python",
   "name": "python",
   "nbconvert_exporter": "python",
   "pygments_lexer": "ipython3",
   "version": "3.7.1"
  }
 },
 "nbformat": 4,
 "nbformat_minor": 2
}
