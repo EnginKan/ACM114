{
 "cells": [
  {
   "cell_type": "markdown",
   "metadata": {},
   "source": [
    "# Decision structures in Python\n",
    "\n",
    " This week, we are going to learn about the decision structures in python programming language.\n",
    " As we have done in real life, we check the correctness of our assumtion related to situation where we have to take decision.\n",
    " To teach computer how it can decide in itatuation we have some basic ways.\n",
    " __If statements__ are very crucial in programming languages. Computer programs are designed to take some decisions according to given input datas and defined conditions.\n",
    " In this material, you are going to learn about the following topics:\n",
    " - __if__ statements\n",
    " - __if-else__ statements\n",
    " - __nested if__ statements(_if-elif_)\n",
    " \n",
    " Before discussion of decision structures in python we need to talk about how we can get values from user.\n",
    "\n",
    "## Reading input from user\n",
    "\n",
    "In the previous week, we learn how we can use print() function to create output. One of basic functionality of some software is \n",
    "taking input from user. In python, we have __input()__ function to get input from user.\n"
   ]
  },
  {
   "cell_type": "code",
   "execution_count": 1,
   "metadata": {},
   "outputs": [
    {
     "name": "stdout",
     "output_type": "stream",
     "text": [
      "Enter your name:Engin\n"
     ]
    }
   ],
   "source": [
    "#let us learn how to read a value form user\n",
    "#we are going to use input() to read value from user\n",
    "name=input('Enter your name:')"
   ]
  },
  {
   "cell_type": "code",
   "execution_count": 2,
   "metadata": {},
   "outputs": [
    {
     "data": {
      "text/plain": [
       "'Engin'"
      ]
     },
     "execution_count": 2,
     "metadata": {},
     "output_type": "execute_result"
    }
   ],
   "source": [
    "name"
   ]
  },
  {
   "cell_type": "markdown",
   "metadata": {},
   "source": [
    "One insteresting property of __input()__ function is that it always read data as __str__(String). This property leads us to find a solution to read integers and floats or boolean values from user.\n",
    "To overcome this problem, we need to use _type-casting_. \n",
    "Look at the following example:"
   ]
  },
  {
   "cell_type": "code",
   "execution_count": 3,
   "metadata": {},
   "outputs": [
    {
     "name": "stdout",
     "output_type": "stream",
     "text": [
      "Enter your age:30\n"
     ]
    },
    {
     "data": {
      "text/plain": [
       "int"
      ]
     },
     "execution_count": 3,
     "metadata": {},
     "output_type": "execute_result"
    }
   ],
   "source": [
    "#input() function always reads value from user as string\n",
    "#to convert it into numeric values we are going to use typecasting\n",
    "age=int(input('Enter your age:'))\n",
    "#check the type of input data\n",
    "type(age)"
   ]
  },
  {
   "cell_type": "markdown",
   "metadata": {},
   "source": [
    "as you see we create age variable and assign it to data using __input()__ function inside __int()__. This integer typecasting.\n",
    "In the next example, example to casting to float is given:"
   ]
  },
  {
   "cell_type": "code",
   "execution_count": 4,
   "metadata": {},
   "outputs": [
    {
     "name": "stdout",
     "output_type": "stream",
     "text": [
      "Give value of pi:3.14\n"
     ]
    },
    {
     "data": {
      "text/plain": [
       "float"
      ]
     },
     "execution_count": 4,
     "metadata": {},
     "output_type": "execute_result"
    }
   ],
   "source": [
    "#another example\n",
    "pi=float(input('Give value of pi:'))\n",
    "type(pi)"
   ]
  },
  {
   "cell_type": "markdown",
   "metadata": {},
   "source": [
    "In type-casting we have to be careful, in the following example we create variable \"a\" and assign 5 to it which is integer. Than we print the value of \"a\", by applying __float()__ to it. But you are going to see that type of \"a\" does not effected\n",
    "with this operation:"
   ]
  },
  {
   "cell_type": "code",
   "execution_count": 5,
   "metadata": {},
   "outputs": [
    {
     "name": "stdout",
     "output_type": "stream",
     "text": [
      "5.0\n"
     ]
    }
   ],
   "source": [
    "#in type casting oprations we have to careful\n",
    "a=5\n",
    "print(float(a))"
   ]
  },
  {
   "cell_type": "code",
   "execution_count": 6,
   "metadata": {},
   "outputs": [
    {
     "name": "stdout",
     "output_type": "stream",
     "text": [
      "5\n"
     ]
    }
   ],
   "source": [
    "print(a)"
   ]
  },
  {
   "cell_type": "code",
   "execution_count": 7,
   "metadata": {},
   "outputs": [
    {
     "data": {
      "text/plain": [
       "int"
      ]
     },
     "execution_count": 7,
     "metadata": {},
     "output_type": "execute_result"
    }
   ],
   "source": [
    "type(a)"
   ]
  },
  {
   "cell_type": "markdown",
   "metadata": {},
   "source": [
    "# Conditionals\n",
    "\n",
    "Before starting disccusiion of __if__ statements, we have learn about conditional statements and relational operators.\n",
    "\n",
    "__if__ statements are executed if the given conditions give us logical boolean value __True__.\n",
    "\n",
    "basic list of relational operators as follows:\n",
    " - **>**(bigger than)\n",
    " - **<**(smaller than)\n",
    " - **>=**(bigger than equal)\n",
    " - **<=**(smaller than equal)\n",
    " - **==**(equal)\n",
    " - **!=**(not equal)\n",
    " \n",
    " In both side of relational operators we write the **operands**(compared values) and this creates a conditional statement.\n",
    " \n",
    " \n",
    " In the next few lines, you will find the usage of the given relational operators:"
   ]
  },
  {
   "cell_type": "code",
   "execution_count": 8,
   "metadata": {},
   "outputs": [
    {
     "data": {
      "text/plain": [
       "True"
      ]
     },
     "execution_count": 8,
     "metadata": {},
     "output_type": "execute_result"
    }
   ],
   "source": [
    "#let us create  condition( single integer comparision)\n",
    "5>3"
   ]
  },
  {
   "cell_type": "code",
   "execution_count": 9,
   "metadata": {},
   "outputs": [
    {
     "data": {
      "text/plain": [
       "False"
      ]
     },
     "execution_count": 9,
     "metadata": {},
     "output_type": "execute_result"
    }
   ],
   "source": [
    "'Engin'=='ENGIN'"
   ]
  },
  {
   "cell_type": "code",
   "execution_count": 10,
   "metadata": {},
   "outputs": [
    {
     "data": {
      "text/plain": [
       "True"
      ]
     },
     "execution_count": 10,
     "metadata": {},
     "output_type": "execute_result"
    }
   ],
   "source": [
    "3>=3"
   ]
  },
  {
   "cell_type": "code",
   "execution_count": 74,
   "metadata": {},
   "outputs": [
    {
     "data": {
      "text/plain": [
       "True"
      ]
     },
     "execution_count": 74,
     "metadata": {},
     "output_type": "execute_result"
    }
   ],
   "source": [
    "#we can also use bigger than smaller than operators for string(s)\n",
    "'Merdan'>'Meltem'"
   ]
  },
  {
   "cell_type": "code",
   "execution_count": 75,
   "metadata": {},
   "outputs": [
    {
     "data": {
      "text/plain": [
       "True"
      ]
     },
     "execution_count": 75,
     "metadata": {},
     "output_type": "execute_result"
    }
   ],
   "source": [
    "'merdan'>'mer'"
   ]
  },
  {
   "cell_type": "code",
   "execution_count": 77,
   "metadata": {},
   "outputs": [
    {
     "data": {
      "text/plain": [
       "True"
      ]
     },
     "execution_count": 77,
     "metadata": {},
     "output_type": "execute_result"
    }
   ],
   "source": [
    "'ahmet'<'mehmet'"
   ]
  },
  {
   "cell_type": "markdown",
   "metadata": {},
   "source": [
    "In addition to given relational operators, there are some special operators in python: \n",
    "- __is__ operator \n",
    "- __in__ operator\n",
    "\n",
    "__is__ operators used as follows:"
   ]
  },
  {
   "cell_type": "code",
   "execution_count": 13,
   "metadata": {},
   "outputs": [
    {
     "data": {
      "text/plain": [
       "True"
      ]
     },
     "execution_count": 13,
     "metadata": {},
     "output_type": "execute_result"
    }
   ],
   "source": [
    "#special relational operator 1: is\n",
    "name='Engin'\n",
    "name is 'Engin'"
   ]
  },
  {
   "cell_type": "markdown",
   "metadata": {},
   "source": [
    "__is__ operators checks that given given two operands are same object or not. __is__ operator is not same as **==** operator.\n",
    "while **==** checks that values of the given two operands are same or not,__is__ checks that given two operands refer to same \n",
    "memory unit or not."
   ]
  },
  {
   "cell_type": "code",
   "execution_count": 14,
   "metadata": {},
   "outputs": [
    {
     "data": {
      "text/plain": [
       "True"
      ]
     },
     "execution_count": 14,
     "metadata": {},
     "output_type": "execute_result"
    }
   ],
   "source": [
    "'Engin' is name"
   ]
  },
  {
   "cell_type": "code",
   "execution_count": 37,
   "metadata": {},
   "outputs": [
    {
     "name": "stdout",
     "output_type": "stream",
     "text": [
      "enter your name:Engin\n"
     ]
    },
    {
     "data": {
      "text/plain": [
       "False"
      ]
     },
     "execution_count": 37,
     "metadata": {},
     "output_type": "execute_result"
    }
   ],
   "source": [
    "input_name=input('enter your name:')\n",
    "input_name is name"
   ]
  },
  {
   "cell_type": "code",
   "execution_count": 38,
   "metadata": {},
   "outputs": [
    {
     "data": {
      "text/plain": [
       "'Engin'"
      ]
     },
     "execution_count": 38,
     "metadata": {},
     "output_type": "execute_result"
    }
   ],
   "source": [
    "name"
   ]
  },
  {
   "cell_type": "code",
   "execution_count": 39,
   "metadata": {},
   "outputs": [
    {
     "data": {
      "text/plain": [
       "True"
      ]
     },
     "execution_count": 39,
     "metadata": {},
     "output_type": "execute_result"
    }
   ],
   "source": [
    "input_name==name"
   ]
  },
  {
   "cell_type": "code",
   "execution_count": 40,
   "metadata": {},
   "outputs": [
    {
     "data": {
      "text/plain": [
       "2315701056048"
      ]
     },
     "execution_count": 40,
     "metadata": {},
     "output_type": "execute_result"
    }
   ],
   "source": [
    "id(name)"
   ]
  },
  {
   "cell_type": "code",
   "execution_count": 41,
   "metadata": {},
   "outputs": [
    {
     "data": {
      "text/plain": [
       "2315701687472"
      ]
     },
     "execution_count": 41,
     "metadata": {},
     "output_type": "execute_result"
    }
   ],
   "source": [
    "id(input_name)"
   ]
  },
  {
   "cell_type": "code",
   "execution_count": 42,
   "metadata": {},
   "outputs": [
    {
     "data": {
      "text/plain": [
       "True"
      ]
     },
     "execution_count": 42,
     "metadata": {},
     "output_type": "execute_result"
    }
   ],
   "source": [
    "input_name is not name"
   ]
  },
  {
   "cell_type": "markdown",
   "metadata": {},
   "source": [
    "Second special operator in python is __in__ operator: which is used to checck that left-hand operand is included in right-hand operand "
   ]
  },
  {
   "cell_type": "code",
   "execution_count": 23,
   "metadata": {},
   "outputs": [
    {
     "data": {
      "text/plain": [
       "True"
      ]
     },
     "execution_count": 23,
     "metadata": {},
     "output_type": "execute_result"
    }
   ],
   "source": [
    "#speacial operator 2: in operator\n",
    "'E' in name"
   ]
  },
  {
   "cell_type": "code",
   "execution_count": 24,
   "metadata": {},
   "outputs": [
    {
     "data": {
      "text/plain": [
       "False"
      ]
     },
     "execution_count": 24,
     "metadata": {},
     "output_type": "execute_result"
    }
   ],
   "source": [
    "'s' in name"
   ]
  },
  {
   "cell_type": "markdown",
   "metadata": {},
   "source": [
    "In addition to given two special operators, we have another one which is **not** operator. **not** operator reverse the given logical value. It means if the condition is **True**, then it changes **True** value to **False** or vice versa. Look at the following examples to undertand the usage of **not**:"
   ]
  },
  {
   "cell_type": "code",
   "execution_count": 29,
   "metadata": {},
   "outputs": [
    {
     "data": {
      "text/plain": [
       "False"
      ]
     },
     "execution_count": 29,
     "metadata": {},
     "output_type": "execute_result"
    }
   ],
   "source": [
    "#we have also 'not operator'\n",
    "check=True\n",
    "not check"
   ]
  },
  {
   "cell_type": "code",
   "execution_count": 30,
   "metadata": {},
   "outputs": [
    {
     "data": {
      "text/plain": [
       "True"
      ]
     },
     "execution_count": 30,
     "metadata": {},
     "output_type": "execute_result"
    }
   ],
   "source": [
    "#we have 'not in' and 'is not' operators \n",
    "'s' not in name"
   ]
  },
  {
   "cell_type": "markdown",
   "metadata": {},
   "source": [
    "## If statements\n",
    "__if__ keyword is used to make decision in python. the usage of if statement as follows:\n",
    "```python\n",
    "if condition:\n",
    "  statements\n",
    "  statements\n",
    "  .\n",
    "  .\n",
    "  .\n",
    "```\n",
    "blank spaces after __if__ statement are very important since staments after if-clause are written in **indented** way.\n",
    "This **indentation** means the statements are executed if the condition is **True**.\n",
    "DO NOT FORGET TO PUT INDENTATION AFTER IF-STATEMENT!!!!"
   ]
  },
  {
   "cell_type": "code",
   "execution_count": 28,
   "metadata": {},
   "outputs": [
    {
     "name": "stdout",
     "output_type": "stream",
     "text": [
      "Hello Engin\n",
      "Welcome\n"
     ]
    }
   ],
   "source": [
    "#usage of if statement\n",
    "if name is 'Engin':\n",
    "    print('Hello',name)\n",
    "#next line work in either case of if statement\n",
    "print('Welcome')"
   ]
  },
  {
   "cell_type": "markdown",
   "metadata": {},
   "source": [
    "In additon to **if** statement, we have __if-else__ structures. In the next example we are going to use **if-else** block.\n",
    "te snytax of **if-else** block as follows:\n",
    "\n",
    "    ```python\n",
    "        if condition:\n",
    "            statements\n",
    "            statements\n",
    "        else:\n",
    "           statements\n",
    "              .\n",
    "              .\n",
    "      ```\n",
    "\n",
    "In the next cell, the usage if of if-else is demonstrated. \n",
    "\n",
    "We have learned many relational operators, to create more complex relations and chech the correctness of more than one condition in one if statements, we have **and** and **or** operators."
   ]
  },
  {
   "cell_type": "code",
   "execution_count": 45,
   "metadata": {},
   "outputs": [
    {
     "name": "stdout",
     "output_type": "stream",
     "text": [
      "Enter username:engin.kandiran\n",
      "Enter password:123**abc\n",
      "You are loginned engin.kandiran\n"
     ]
    }
   ],
   "source": [
    "#example of if statement\n",
    "saved_user='engin.kandiran'\n",
    "saved_pass='123**abc'\n",
    "username=input('Enter username:')\n",
    "password=input('Enter password:')\n",
    "#to check more than one condition in single if statement\n",
    "#we have 'and' and 'or' keywords(operators)\n",
    "if username==saved_user and password==saved_pass:\n",
    "    print('You are loginned', username)\n",
    "#to give order to computer if the condition is not satisfied use else statement\n",
    "else:\n",
    "    print('Your informations are wrong!!')"
   ]
  },
  {
   "cell_type": "markdown",
   "metadata": {},
   "source": [
    "We have also nested if statements. For nested if statements, we are going to use **if-else if** structures.\n",
    "In python, instead of writing **else if**, we have keyword **elif**. Let us investigate following example."
   ]
  },
  {
   "cell_type": "code",
   "execution_count": 51,
   "metadata": {},
   "outputs": [
    {
     "name": "stdout",
     "output_type": "stream",
     "text": [
      "Enter username:engin.kandiran\n",
      "Enter password:312312aa\n",
      "Your password is wrong\n"
     ]
    }
   ],
   "source": [
    "#example of if statement\n",
    "saved_user='engin.kandiran'\n",
    "saved_pass='123**abc'\n",
    "username=input('Enter username:')\n",
    "password=input('Enter password:')\n",
    "#to check more than one condition in single if statement\n",
    "#we have 'and' and 'or' keywords(operators)\n",
    "if username==saved_user or  username==saved_user.upper():\n",
    "    if len(password)<8:\n",
    "        password=input('Enter password(8 characters):')\n",
    "        if password==saved_pass:\n",
    "            print('You are loginned', username)\n",
    "        else:\n",
    "            print('Your password is wrong')\n",
    "    else:    \n",
    "        if password==saved_pass:\n",
    "            print('You are loginned', username)\n",
    "        else:\n",
    "            print('Your password is wrong')\n",
    "#to give order to computer if the condition is not satisfied use else statement\n",
    "else:\n",
    "    print('Your username or(and) password is wrong!!')"
   ]
  },
  {
   "cell_type": "code",
   "execution_count": 57,
   "metadata": {},
   "outputs": [
    {
     "name": "stdout",
     "output_type": "stream",
     "text": [
      "Enter your exam grade:96\n",
      "you pass: True letter grade AA\n"
     ]
    }
   ],
   "source": [
    "#we also have nested if statements (else if)\n",
    "success=False\n",
    "grade=int(input('Enter your exam grade:'))\n",
    "letter_grade=''\n",
    "if grade>=90:\n",
    "    letter_grade='AA'\n",
    "elif grade>=80:\n",
    "    letter_grade='BA'\n",
    "elif grade>=70:\n",
    "    letter_grade=\"BB\"\n",
    "else:\n",
    "    letter_grade=\"FF\"\n",
    "#ternary if statement\n",
    "success=False if letter_grade==\"FF\" else True\n",
    "print(\"you pass:\",success,'letter grade',letter_grade)"
   ]
  },
  {
   "cell_type": "markdown",
   "metadata": {},
   "source": [
    "# Ternary if statements\n",
    "we can use **if-else** structures in different format and it is called as **ternary if** statement:"
   ]
  },
  {
   "cell_type": "code",
   "execution_count": 69,
   "metadata": {},
   "outputs": [
    {
     "name": "stdout",
     "output_type": "stream",
     "text": [
      "1\n"
     ]
    }
   ],
   "source": [
    "x=1 if success else 0\n",
    "print(x)"
   ]
  },
  {
   "cell_type": "markdown",
   "metadata": {},
   "source": [
    "the same result can also be obtained by the following code segment:"
   ]
  },
  {
   "cell_type": "code",
   "execution_count": 67,
   "metadata": {},
   "outputs": [],
   "source": [
    "if not success:\n",
    "    pass\n",
    "else:\n",
    "    x=0"
   ]
  },
  {
   "cell_type": "code",
   "execution_count": 68,
   "metadata": {},
   "outputs": [
    {
     "name": "stdout",
     "output_type": "stream",
     "text": [
      "0\n"
     ]
    }
   ],
   "source": [
    "print(x)"
   ]
  },
  {
   "cell_type": "code",
   "execution_count": 72,
   "metadata": {},
   "outputs": [
    {
     "name": "stdout",
     "output_type": "stream",
     "text": [
      "you are not qualified for this position\n"
     ]
    }
   ],
   "source": [
    "age=30\n",
    "if age>30:\n",
    "    pass\n",
    "else:\n",
    "    print('you are not qualified for this position')"
   ]
  },
  {
   "cell_type": "code",
   "execution_count": null,
   "metadata": {},
   "outputs": [],
   "source": []
  }
 ],
 "metadata": {
  "kernelspec": {
   "display_name": "Python 3",
   "language": "python",
   "name": "python3"
  },
  "language_info": {
   "codemirror_mode": {
    "name": "ipython",
    "version": 3
   },
   "file_extension": ".py",
   "mimetype": "text/x-python",
   "name": "python",
   "nbconvert_exporter": "python",
   "pygments_lexer": "ipython3",
   "version": "3.7.1"
  }
 },
 "nbformat": 4,
 "nbformat_minor": 2
}
