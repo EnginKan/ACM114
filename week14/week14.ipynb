{
 "cells": [
  {
   "cell_type": "code",
   "execution_count": 36,
   "metadata": {},
   "outputs": [],
   "source": [
    "from tkinter import *\n",
    "from tkinter import ttk\n",
    "from tkinter import messagebox"
   ]
  },
  {
   "cell_type": "code",
   "execution_count": 39,
   "metadata": {},
   "outputs": [],
   "source": [
    "textbox1=None\n",
    "frame2=None\n",
    "txt=None\n",
    "def labelcreator():\n",
    "    global txt,frame2,textbox1\n",
    "    txt=StringVar()\n",
    "    txt.set(textbox1.get())\n",
    "    label=Label(frame2,textvariable=txt)\n",
    "    label.pack(side=\"right\")\n",
    "    \n",
    "def mesaj():\n",
    "    messagebox.showerror(title=\"This is Message\",message=\"You did!!!!\")\n",
    "def yazdir():\n",
    "    global textbox1\n",
    "    print(textbox1.get())\n",
    "pencere=Tk()\n",
    "pencere.title(\"This is our first App\")\n",
    "frame1=Frame(pencere,height=200,width=200,background=\"purple\")\n",
    "frame1.pack(side=\"left\")\n",
    "frame2=Frame(pencere,height=200,width=200, background=\"blue\")\n",
    "frame2.pack(side=\"right\")\n",
    "textbox1=Entry(frame1)\n",
    "dugme=Button(frame2,text=\"Press\",command=mesaj)\n",
    "dugme.pack()\n",
    "label1=Label(frame1,text=\"Course Name:\")\n",
    "label2=Label(frame1,text=\"Course Code:\")\n",
    "label1.pack(side=\"top\")\n",
    "textbox1.pack(side=\"right\")\n",
    "label2.pack(side=\"left\")\n",
    "combo1=ttk.Combobox(frame2,values=['Student',\"Instructor\"])\n",
    "combo1.pack()\n",
    "pencere.mainloop()"
   ]
  },
  {
   "cell_type": "code",
   "execution_count": null,
   "metadata": {},
   "outputs": [],
   "source": []
  },
  {
   "cell_type": "code",
   "execution_count": null,
   "metadata": {},
   "outputs": [],
   "source": []
  }
 ],
 "metadata": {
  "kernelspec": {
   "display_name": "Python 3",
   "language": "python",
   "name": "python3"
  },
  "language_info": {
   "codemirror_mode": {
    "name": "ipython",
    "version": 3
   },
   "file_extension": ".py",
   "mimetype": "text/x-python",
   "name": "python",
   "nbconvert_exporter": "python",
   "pygments_lexer": "ipython3",
   "version": "3.7.6"
  }
 },
 "nbformat": 4,
 "nbformat_minor": 4
}
